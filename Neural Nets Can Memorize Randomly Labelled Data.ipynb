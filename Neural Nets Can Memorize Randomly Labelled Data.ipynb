{
 "cells": [
  {
   "cell_type": "markdown",
   "metadata": {},
   "source": [
    "## achieving low loss on randomized data \n",
    "if we can achieve zero loss on randomized data, does that mean the network is simply memorizing 1:1 mapping of each datapoint in input space to the label? \n",
    "\n",
    "after all, we know that neural nets can [memorize inputs](http://colah.github.io/posts/2014-07-NLP-RNNs-Representations/) with a wide hidden layer."
   ]
  },
  {
   "cell_type": "code",
   "execution_count": 1,
   "metadata": {},
   "outputs": [
    {
     "name": "stderr",
     "output_type": "stream",
     "text": [
      "/Users/vincenttang/anaconda3/lib/python3.7/importlib/_bootstrap.py:219: RuntimeWarning: compiletime version 3.6 of module 'tensorflow.python.framework.fast_tensor_util' does not match runtime version 3.7\n",
      "  return f(*args, **kwds)\n"
     ]
    }
   ],
   "source": [
    "import numpy as np\n",
    "from tqdm import tqdm\n",
    "import matplotlib.pyplot as plt\n",
    "\n",
    "import tensorflow as tf\n",
    "from tensorflow.examples.tutorials.mnist import input_data\n",
    "\n",
    "plt.style.use(\"ggplot\")\n",
    "%matplotlib inline"
   ]
  },
  {
   "cell_type": "code",
   "execution_count": 14,
   "metadata": {},
   "outputs": [
    {
     "name": "stdout",
     "output_type": "stream",
     "text": [
      "Extracting MNIST_data/train-images-idx3-ubyte.gz\n",
      "Extracting MNIST_data/train-labels-idx1-ubyte.gz\n",
      "Extracting MNIST_data/t10k-images-idx3-ubyte.gz\n",
      "Extracting MNIST_data/t10k-labels-idx1-ubyte.gz\n"
     ]
    }
   ],
   "source": [
    "# fetch mnist\n",
    "mnist = input_data.read_data_sets(\"MNIST_data/\", one_hot=True)\n",
    "X_train = mnist.test.images\n",
    "y_train = mnist.test.labels\n",
    "\n",
    "# randomly shuffle labels - neural net should still be able to map inputs to random labels\n",
    "y_shuffled = np.random.permutation(y_train)"
   ]
  },
  {
   "cell_type": "code",
   "execution_count": 15,
   "metadata": {},
   "outputs": [],
   "source": [
    "def create_generator(n_samples, batch_size):\n",
    "    \"\"\"mnist generator.\n",
    "    \"\"\"\n",
    "    for start in range(0, n_samples, batch_size):\n",
    "        xs = X_train[start : start+batch_size]\n",
    "        ys = y_shuffled[start : start+batch_size]\n",
    "        yield xs, ys"
   ]
  },
  {
   "cell_type": "code",
   "execution_count": 16,
   "metadata": {},
   "outputs": [],
   "source": [
    "# hyperparams\n",
    "n_features = mnist.test.images[0].shape[0]\n",
    "n_classes = mnist.test.labels[0].shape[0]\n",
    "n_hidden = 32\n",
    "n_examples = mnist.test.images.shape[0]"
   ]
  },
  {
   "cell_type": "code",
   "execution_count": 17,
   "metadata": {},
   "outputs": [],
   "source": [
    "tf.reset_default_graph()\n",
    "\n",
    "with tf.variable_scope(\"inputs\"):\n",
    "    X_ = tf.placeholder(tf.float32, shape=[None, n_features], name=\"X\")\n",
    "    y_= tf.placeholder(tf.float32, shape=[None, n_classes], name=\"y\")\n",
    "\n",
    "with tf.variable_scope(\"model\"):\n",
    "    fc1 = tf.layers.dense(inputs=X_, units=n_hidden, activation=tf.nn.relu, name='fc1')\n",
    "    z1 = tf.layers.dense(inputs=fc1, units=n_classes, name='logits')\n",
    "    probs = tf.nn.softmax(z1)\n",
    "\n",
    "loss = tf.losses.softmax_cross_entropy(onehot_labels=y_, logits=z1)\n",
    "op = tf.train.AdamOptimizer(1e-3).minimize(loss)\n",
    "\n",
    "init = tf.global_variables_initializer()"
   ]
  },
  {
   "cell_type": "code",
   "execution_count": 18,
   "metadata": {},
   "outputs": [
    {
     "name": "stderr",
     "output_type": "stream",
     "text": [
      "100%|██████████| 100/100 [00:30<00:00,  3.55it/s]\n"
     ]
    }
   ],
   "source": [
    "batch_size = 32\n",
    "n_epochs = 100\n",
    "ls_loss = []  # track loss over time\n",
    "\n",
    "with tf.Session() as sess:\n",
    "    sess.run(init)\n",
    "\n",
    "    for epoch in tqdm(range(n_epochs)):\n",
    "        \n",
    "        # create mnist generator at the start of each epoch\n",
    "        mnist_generator = create_generator(n_examples, batch_size)\n",
    "        \n",
    "        # fetch minibatch from generator, then fit model\n",
    "        for xs, ys in mnist_generator: \n",
    "            _ = sess.run(op, feed_dict={X_: xs, y_: ys})\n",
    "        \n",
    "        # get loss after each epoch\n",
    "        loss_ = sess.run(loss, {X_: X_train, y_: y_shuffled})\n",
    "        ls_loss.append(loss_)"
   ]
  },
  {
   "cell_type": "code",
   "execution_count": 20,
   "metadata": {},
   "outputs": [
    {
     "data": {
      "text/plain": [
       "Text(0.5, 1.0, 'neural nets acheives low loss on randomized data')"
      ]
     },
     "execution_count": 20,
     "metadata": {},
     "output_type": "execute_result"
    },
    {
     "data": {
      "image/png": "[encoded data removed]",
      "text/plain": [
       "<Figure size 432x288 with 1 Axes>"
      ]
     },
     "metadata": {
      "needs_background": "light"
     },
     "output_type": "display_data"
    }
   ],
   "source": [
    "plt.plot(ls_loss)\n",
    "plt.ylabel(\"loss\")\n",
    "plt.xlabel(\"epochs\")\n",
    "plt.title(\"neural nets acheives low loss on randomized data\")"
   ]
  },
  {
   "cell_type": "code",
   "execution_count": null,
   "metadata": {
    "collapsed": true
   },
   "outputs": [],
   "source": []
  }
 ],
 "metadata": {
  "kernelspec": {
   "display_name": "Python 3",
   "language": "python",
   "name": "python3"
  },
  "language_info": {
   "codemirror_mode": {
    "name": "ipython",
    "version": 3
   },
   "file_extension": ".py",
   "mimetype": "text/x-python",
   "name": "python",
   "nbconvert_exporter": "python",
   "pygments_lexer": "ipython3",
   "version": "3.7.3"
  }
 },
 "nbformat": 4,
 "nbformat_minor": 2
}
